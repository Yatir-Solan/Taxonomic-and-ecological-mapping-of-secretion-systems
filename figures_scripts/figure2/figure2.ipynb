{
 "cells": [
  {
   "cell_type": "code",
   "execution_count": 1,
   "metadata": {},
   "outputs": [],
   "source": [
    "import os\n",
    "import sys\n",
    "import pickle\n",
    "import itertools\n",
    "import numpy as np\n",
    "import pandas as pd\n",
    "import matplotlib.pyplot as plt\n",
    "sys.path.append(r'/davidb/yatirsolan/scripts/python/bio_utilities')\n",
    "import phylogenetics\n",
    "import databases"
   ]
  },
  {
   "cell_type": "code",
   "execution_count": 2,
   "metadata": {},
   "outputs": [],
   "source": [
    "def find_the_file(database, patterns_file):\n",
    "    files = list(filter(lambda file: database in file, patterns_file))\n",
    "    if files:\n",
    "        df = pd.read_table(files[0])\n",
    "        df = df[~(df.patterns.str.contains('parameters:'))]\n",
    "        return df\n",
    "    else:\n",
    "        return None\n",
    "    \n",
    "def concatenate(lst_of_databases):\n",
    "    lst_of_databases = list(filter(lambda x: x is not None, lst_of_databases))\n",
    "    if lst_of_databases:\n",
    "        return pd.concat(lst_of_databases)\n",
    "    else:\n",
    "        return None\n",
    "\n",
    "def func(main_dir):\n",
    "    patterns_file = list()\n",
    "    for file in os.walk(main_dir):\n",
    "        if 'Sele' in file[0]:\n",
    "            continue\n",
    "        if file[0].endswith('review') :\n",
    "            for review_file in file[2]:\n",
    "                if review_file.endswith('_min_core_prts.tsv'):\n",
    "                    patterns_file.append(os.path.join(file[0], review_file))\n",
    "\n",
    "    mgnify_df = find_the_file('Mgnify', patterns_file)\n",
    "    GEM_df = find_the_file('GEM', patterns_file)\n",
    "    WGS_Metagenomes_df = find_the_file('WGS_Metagenomes', patterns_file)\n",
    "    WGS_Uncultured_df = find_the_file('WGS_Uncultured', patterns_file)\n",
    "    WGS_Genomes_df = find_the_file('WGS_Genomes', patterns_file)\n",
    "\n",
    "    metagenomic_df = concatenate([mgnify_df, GEM_df, WGS_Metagenomes_df])\n",
    "    genomic_df = concatenate([WGS_Uncultured_df, WGS_Genomes_df])\n",
    "\n",
    "    return {'Mgnify':mgnify_df,\n",
    "            'GEM':GEM_df,\n",
    "            'WGS_Metagenomes':WGS_Metagenomes_df,\n",
    "            'WGS_Uncultured':WGS_Uncultured_df,\n",
    "            'WGS_Genomes':WGS_Genomes_df,\n",
    "            'metagenomic':metagenomic_df, \n",
    "            'genomic':genomic_df}\n",
    "\n",
    "T3SS = func(r'/davidb/yatirsolan/secretion_systems/T3SS/T3SS_vs_Metagenomics')\n",
    "T4SSA = func(r'/davidb/yatirsolan/secretion_systems/T4SS/T4SSA_vs_Metagenomics')\n",
    "T4SSB = func(r'/davidb/yatirsolan/secretion_systems/T4SS/T4SSB_vs_Metagenomics')\n",
    "T6SSi = func(r'/davidb/yatirsolan/secretion_systems/T6SS/T6SSi_vs_Metagenomics')\n",
    "T6SSii = func(r'/davidb/yatirsolan/secretion_systems/T6SS/T6SSii_vs_Metagenomics')\n",
    "T6SSiii = func(r'/davidb/yatirsolan/secretion_systems/T6SS/T6SSiii_vs_Metagenomics')"
   ]
  },
  {
   "cell_type": "code",
   "execution_count": 3,
   "metadata": {},
   "outputs": [
    {
     "name": "stdout",
     "output_type": "stream",
     "text": [
      "T3SS total - 390356\n",
      "T3SS metagenomic only - 1472\n",
      "T3SS genomic only - 388884\n",
      "Mgnify - 721 \n",
      "GEM - 422 \n",
      "WGS_Metagenomes - 329 \n",
      "WGS_Uncultured - 56 \n",
      "WGS_Genomes - 388828\n",
      "--------------\n",
      "T3SS metagenomic only - 1472\n",
      "T36SS genomic only - 388884\n"
     ]
    }
   ],
   "source": [
    "T3SS_metagenomic_total = len(T3SS.get('metagenomic'))\n",
    "T3SS_genomic_total = len(T3SS.get('genomic'))\n",
    "T3SS_total = T3SS_metagenomic_total + T3SS_genomic_total\n",
    "\n",
    "print('T3SS total -', T3SS_total)\n",
    "print('T3SS metagenomic only -', T3SS_metagenomic_total)\n",
    "print('T3SS genomic only -', T3SS_genomic_total)\n",
    "print('Mgnify -', len(T3SS.get('Mgnify')), '\\n'\n",
    "      'GEM -', len(T3SS.get('GEM')), '\\n'\n",
    "      'WGS_Metagenomes -', len(T3SS.get('WGS_Metagenomes')), '\\n'\n",
    "      'WGS_Uncultured -', len(T3SS.get('WGS_Uncultured')), '\\n'\n",
    "      'WGS_Genomes -', len(T3SS.get('WGS_Genomes'))) \n",
    "print('--------------')\n",
    "print('T3SS metagenomic only -', T3SS_metagenomic_total)\n",
    "print('T36SS genomic only -', T3SS_genomic_total)"
   ]
  },
  {
   "cell_type": "code",
   "execution_count": 4,
   "metadata": {},
   "outputs": [
    {
     "name": "stdout",
     "output_type": "stream",
     "text": [
      "T4SSA total - 9083\n",
      "T4SSA metagenomic only - 449\n",
      "T4SSA genomic only - 8634\n",
      "Mgnify - 234 \n",
      "GEM - 117 \n",
      "WGS_Metagenomes - 98 \n",
      "WGS_Uncultured - 13 \n",
      "WGS_Genomes - 8621 \n",
      "--------------\n",
      "T4SSB total - 1374\n",
      "T4SSB metagenomic only - 69\n",
      "T4SSB genomic only - 1305\n",
      "Mgnify - 30 \n",
      "GEM - 19 \n",
      "WGS_Metagenomes - 20 \n",
      "WGS_Uncultured - 8 \n",
      "WGS_Genomes - 1297\n",
      "--------------\n",
      "T4SS metagenomic only - 518\n",
      "T4SS genomic only - 9939\n"
     ]
    }
   ],
   "source": [
    "T4SSA_metagenomic_total = len(T4SSA.get('metagenomic'))\n",
    "T4SSA_genomic_total = len(T4SSA.get('genomic'))\n",
    "T4SSA_total = T4SSA_metagenomic_total + T4SSA_genomic_total\n",
    "\n",
    "print('T4SSA total -', T4SSA_total)\n",
    "print('T4SSA metagenomic only -', T4SSA_metagenomic_total)\n",
    "print('T4SSA genomic only -', T4SSA_genomic_total)\n",
    "# print()\n",
    "print('Mgnify -', len(T4SSA.get('Mgnify')), '\\n'\n",
    "      'GEM -', len(T4SSA.get('GEM')), '\\n'\n",
    "      'WGS_Metagenomes -', len(T4SSA.get('WGS_Metagenomes')), '\\n'\n",
    "      'WGS_Uncultured -', len(T4SSA.get('WGS_Uncultured')), '\\n'\n",
    "      'WGS_Genomes -', len(T4SSA.get('WGS_Genomes')), '\\n--------------') \n",
    "\n",
    "T4SSB_metagenomic_total = len(T4SSB.get('metagenomic'))\n",
    "T4SSB_genomic_total = len(T4SSB.get('genomic'))\n",
    "T4SSB_total = T4SSB_metagenomic_total + T4SSB_genomic_total\n",
    "print('T4SSB total -', T4SSB_total)\n",
    "print('T4SSB metagenomic only -', T4SSB_metagenomic_total)\n",
    "print('T4SSB genomic only -', T4SSB_genomic_total)\n",
    "# print()\n",
    "print('Mgnify -', len(T4SSB.get('Mgnify')), '\\n'\n",
    "      'GEM -', len(T4SSB.get('GEM')), '\\n'\n",
    "      'WGS_Metagenomes -', len(T4SSB.get('WGS_Metagenomes')), '\\n'\n",
    "      'WGS_Uncultured -', len(T4SSB.get('WGS_Uncultured')), '\\n'\n",
    "      'WGS_Genomes -', len(T4SSB.get('WGS_Genomes'))) \n",
    "print('--------------')\n",
    "print('T4SS metagenomic only -', T4SSA_metagenomic_total + T4SSB_metagenomic_total)\n",
    "print('T4SS genomic only -', T4SSA_genomic_total + T4SSB_genomic_total)"
   ]
  },
  {
   "cell_type": "code",
   "execution_count": 5,
   "metadata": {},
   "outputs": [
    {
     "name": "stdout",
     "output_type": "stream",
     "text": [
      "T6SSi total - 253446\n",
      "T6SSi metagenomic only - 8517\n",
      "T6SSi genomic only - 244929\n",
      "Mgnify - 4398 \n",
      "GEM - 1946 \n",
      "WGS_Metagenomes - 2173 \n",
      "WGS_Uncultured - 110 \n",
      "WGS_Genomes - 244819 \n",
      "--------------\n",
      "T6SSii total - 852\n",
      "WGS_Genomes - 852 \n",
      "--------------\n",
      "T6SSiii total - 6346\n",
      "T6SSiii metagenomic only - 4651\n",
      "T6SSiii genomic only - 1695\n",
      "Mgnify - 2297 \n",
      "GEM - 259 \n",
      "WGS_Metagenomes - 2095 \n",
      "WGS_Uncultured - 7 \n",
      "WGS_Genomes - 1688\n",
      "--------------\n",
      "T6SS metagenomic only - 13168\n",
      "T6SS genomic only - 247476\n"
     ]
    }
   ],
   "source": [
    "T6SSi_metagenomic_total = len(T6SSi.get('metagenomic'))\n",
    "T6SSi_genomic_total = len(T6SSi.get('genomic'))\n",
    "T6SSi_total = T6SSi_metagenomic_total + T6SSi_genomic_total\n",
    "\n",
    "print('T6SSi total -', T6SSi_total)\n",
    "print('T6SSi metagenomic only -', T6SSi_metagenomic_total)\n",
    "print('T6SSi genomic only -', T6SSi_genomic_total)\n",
    "print('Mgnify -', len(T6SSi.get('Mgnify')), '\\n'\n",
    "      'GEM -', len(T6SSi.get('GEM')), '\\n'\n",
    "      'WGS_Metagenomes -', len(T6SSi.get('WGS_Metagenomes')), '\\n'\n",
    "      'WGS_Uncultured -', len(T6SSi.get('WGS_Uncultured')), '\\n'\n",
    "      'WGS_Genomes -', len(T6SSi.get('WGS_Genomes')), '\\n--------------') \n",
    "\n",
    "T6SSii_total = len(T6SSii.get('genomic'))\n",
    "T6SSii_genomic_total = T6SSii_total\n",
    "\n",
    "print('T6SSii total -', T6SSii_total)\n",
    "print('WGS_Genomes -', len(T6SSii.get('WGS_Genomes')), '\\n--------------') \n",
    "\n",
    "T6SSiii_metagenomic_total = len(T6SSiii.get('metagenomic'))\n",
    "T6SSiii_genomic_total = len(T6SSiii.get('genomic'))\n",
    "T6SSiii_total = T6SSiii_metagenomic_total + T6SSiii_genomic_total\n",
    "\n",
    "print('T6SSiii total -', T6SSiii_total)\n",
    "print('T6SSiii metagenomic only -', T6SSiii_metagenomic_total)\n",
    "print('T6SSiii genomic only -', T6SSiii_genomic_total)\n",
    "print('Mgnify -', len(T6SSiii.get('Mgnify')), '\\n'\n",
    "      'GEM -', len(T6SSiii.get('GEM')), '\\n'\n",
    "      'WGS_Metagenomes -', len(T6SSiii.get('WGS_Metagenomes')), '\\n'\n",
    "      'WGS_Uncultured -', len(T6SSiii.get('WGS_Uncultured')), '\\n'\n",
    "      'WGS_Genomes -', len(T6SSiii.get('WGS_Genomes'))) \n",
    "print('--------------')\n",
    "print('T6SS metagenomic only -', T6SSi_metagenomic_total + T6SSiii_metagenomic_total)\n",
    "print('T6SS genomic only -', T6SSi_genomic_total + T6SSii_genomic_total + T6SSiii_genomic_total)"
   ]
  },
  {
   "cell_type": "code",
   "execution_count": 6,
   "metadata": {},
   "outputs": [
    {
     "name": "stdout",
     "output_type": "stream",
     "text": [
      "All systems found - 661457\n"
     ]
    }
   ],
   "source": [
    "print('All systems found -', T3SS_total + T4SSA_total + T4SSB_total + T6SSi_total + T6SSii_total + T6SSiii_total)"
   ]
  },
  {
   "cell_type": "code",
   "execution_count": 11,
   "metadata": {},
   "outputs": [
    {
     "data": {
      "image/png": "[encoded data removed]",
      "text/plain": [
       "<Figure size 342x288 with 1 Axes>"
      ]
     },
     "metadata": {},
     "output_type": "display_data"
    }
   ],
   "source": [
    "plt.style.use('seaborn-whitegrid')\n",
    "\n",
    "def get_ordered_values(dict_of_values, labels):\n",
    "    return list(dict(sorted(dict_of_values.items(), key=lambda x:{lbl:i for i, lbl in enumerate(labels, 1)}.get(x[0]))).values())\n",
    "\n",
    "labels = ['Metagenomic', 'Genomic']\n",
    "sys_res_lst = list()\n",
    "\n",
    "sys_dic = {'T3SS':{'Metagenomic':T3SS_metagenomic_total, \n",
    "                   'Genomic':T3SS_genomic_total}, \n",
    "           'T4SS':{'Metagenomic':T4SSA_metagenomic_total + T4SSB_metagenomic_total, \n",
    "                   'Genomic':T4SSA_genomic_total + T4SSB_genomic_total},\n",
    "           'T6SS':{'Metagenomic':T6SSi_metagenomic_total + T6SSiii_metagenomic_total, \n",
    "                   'Genomic':T6SSi_genomic_total + T6SSii_genomic_total + T6SSiii_genomic_total}}\n",
    "\n",
    "T3SS_values, T4SS_values, T6SS_values = list(sys_dic.get('T3SS').values()), list(sys_dic.get('T4SS').values()), list(sys_dic.get('T6SS').values())\n",
    "total_systems = sum(T3SS_values+T4SS_values+T6SS_values)\n",
    "\n",
    "x = np.arange(len(labels))  # the label locations\n",
    "width = 0.25  # the width of the bars\n",
    "\n",
    "fig, ax = plt.subplots(figsize=(4.75,4))\n",
    "ax.bar(x - width, T3SS_values, width=width, label='T3SS', color='#8495a9')\n",
    "ax.bar(x, T4SS_values, width=width, label='T4SS', color='#75ae97')\n",
    "ax.bar(x + width, T6SS_values, width=width, label='T6SS', color='#bf796e')\n",
    "\n",
    "# Add some text for labels, title and custom x-axis tick labels, etc.\n",
    "ax.set_ylabel('Number of Systems (log scale)', weight='bold')\n",
    "ax.set_yscale('log')\n",
    "plt.xticks(ticks=x, labels=['Metagenomic\\ndatabases', 'Genomic\\ndatabases'], weight='bold')\n",
    "ax.legend(loc='upper left', \n",
    "          frameon=True,\n",
    "          facecolor='white', \n",
    "          shadow=False, \n",
    "          labelspacing=.5, \n",
    "          framealpha=1, \n",
    "          edgecolor='white', \n",
    "          fancybox=False, \n",
    "          prop={'size':6.3, 'style': 'normal', 'weight':'bold'})\n",
    "\n",
    "for i, pos in enumerate(x - width):\n",
    "    plt.text(x=pos, y=T3SS_values[i]*.79, s='{:,}'.format(T3SS_values[i]), size=7.5, ha='center', color='white', fontdict={'weight':'bold'})\n",
    "for i, pos in enumerate(x):\n",
    "    plt.text(x=pos, y=T4SS_values[i]*.79, s='{:,}'.format(T4SS_values[i]), size=7.5, ha='center', color='white', fontdict={'weight':'bold'})\n",
    "for i, pos in enumerate(x + width):\n",
    "    plt.text(x=pos, y=T6SS_values[i]*.79, s='{:,}'.format(T6SS_values[i]), size=7.5, ha='center', color='white', fontdict={'weight':'bold'})\n",
    "\n",
    "fig.tight_layout()\n",
    "plt.grid(False)\n",
    "plt.show()\n",
    "fig.savefig(r'/davidb/yatirsolan/thesis_work/figures/figure2.svg', bbox_inches='tight')"
   ]
  }
 ],
 "metadata": {
  "kernelspec": {
   "display_name": "Python 3.7.6 ('ddocent_env')",
   "language": "python",
   "name": "python3"
  },
  "language_info": {
   "codemirror_mode": {
    "name": "ipython",
    "version": 3
   },
   "file_extension": ".py",
   "mimetype": "text/x-python",
   "name": "python",
   "nbconvert_exporter": "python",
   "pygments_lexer": "ipython3",
   "version": "3.7.6"
  },
  "orig_nbformat": 4,
  "vscode": {
   "interpreter": {
    "hash": "0a23e0ae80a977fa5fa277274bc89a8fb400a78dc61cac318869830745ce402b"
   }
  }
 },
 "nbformat": 4,
 "nbformat_minor": 2
}
